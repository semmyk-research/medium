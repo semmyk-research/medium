{
 "cells": [
  {
   "cell_type": "markdown",
   "id": "e10754f4-292a-4236-9df4-fd5835997e1e",
   "metadata": {},
   "source": [
    "### Python: Handling newline \\n in text / raw strings\n",
    "\n",
    "Earlier in the month, this new year 2023, I was busy with data analysis of one of my generated text-based dataset. I needed to search for and match text in a dataframe. The column in question has multi-line text.  \n",
    "\n",
    "This supporting code to my [Medium article][1] is the first part where I indicate the strength of the regex flag `re.DOTALL`.\n",
    "\n",
    "I'll subsequently be writing and walking through the actual extraction of the key terms / themes in my dataset. Stay tuned.\n",
    "\n",
    "\n",
    "[1]: <https://medium.com/@AKayode_research/python-handling-newline-n-in-text-or-plain-raw-string-cde50113cf3e> 'Medium article'\n",
    "\n",
    "- *Semmyk '23*"
   ]
  },
  {
   "cell_type": "code",
   "execution_count": 1,
   "id": "d3de37ab-ab03-4430-acea-fa23510c512c",
   "metadata": {},
   "outputs": [],
   "source": [
    "## import libraries\n",
    "import re"
   ]
  },
  {
   "cell_type": "code",
   "execution_count": 2,
   "id": "82d744c2-f3b1-4f38-95bd-b9de20ad2677",
   "metadata": {},
   "outputs": [],
   "source": [
    "## raw string\n",
    "s1_str = '''\"type\": \"Car\",\n",
    "  \"brand\": \"Ford\",\n",
    "  \"model\": \"Fiesta\",\n",
    "  \"colour\": \"Black'''\n",
    "\n",
    "s2_str = '\"Type\": \"Car\",\\n\"brand\": \"Ford\", \\n\"model\": \"Fiesta\", \\n\"colour\": \"Black'"
   ]
  },
  {
   "cell_type": "code",
   "execution_count": 3,
   "id": "3ee54667-c9e9-4751-b44c-3cec11b77bcc",
   "metadata": {},
   "outputs": [],
   "source": [
    "##regex match \n",
    "m1_1 = re.match(r'(?=.*?[cC])(?=.*?Fiesta).*', s1_str, re.DOTALL)  #matches!!\n",
    "m1_2 = re.match(r'(?=^.*?[cC]).*?$', s1_str, re.M)    #matches!!\n",
    "m2_1 = re.match(r'(?=.*[cC]ar)(?=.*Fiesta).*', s2_str, re.DOTALL)  #matches\n",
    "m2_2 = re.match(r'(?=.*[cC]ar)(?=.*Fiesta).*', s2_str, re.M)  #doesn't match\n",
    "m2_3 = re.match(r'(?=.*[cC]ar)(?=.*brand).*', s2_str, re.DOTALL)  #matches\n",
    "m2_4 = re.match(r'(?=.*[cC]ar)(?=.*brand).*', s2_str, re.M)  #doesn't match\n",
    "m2_5 = re.match(r'.*Car\",\\n\"brand\":', s2_str, re.DOTALL)  #matches\n",
    "m2_6 = re.match(r'.*Car\",$\\n\"brand', s2_str) #doesn't match\n",
    "m2_7 = re.match(r'.*Car\",$\\n\"brand', s2_str, re.M)  #matches\n",
    "m2_8 = re.match(r'.*Car\",$\\n\"brand', s2_str, re.DOTALL)  #doesn't matches\n",
    "m2_9 = re.match(r'.*Car.*\\n\"brand', s2_str, re.DOTALL)  #matches  #.group"
   ]
  },
  {
   "cell_type": "code",
   "execution_count": 4,
   "id": "4a7fdd96-17c3-47e2-95bf-d57bbb0e7e8b",
   "metadata": {},
   "outputs": [],
   "source": [
    "## list of regex matches\n",
    "match_list = [m1_1, m1_2, m2_1, m2_2, m2_3, m2_4, m2_5, m2_6, m2_7, m2_8, m2_9]"
   ]
  },
  {
   "cell_type": "code",
   "execution_count": 5,
   "id": "eb70bf4e-e9c9-4b62-9835-d6865bec1277",
   "metadata": {},
   "outputs": [
    {
     "name": "stdout",
     "output_type": "stream",
     "text": [
      "\u001b[1mmatches:\u001b[0m \n",
      "m1_1| <re.Match object; span=(0, 73), match='\"type\": \"Car\",\\n  \"brand\": \"Ford\",\\n  \"model\": \"F> \n",
      "m1_2| <re.Match object; span=(0, 14), match='\"type\": \"Car\",'> \n",
      "m2_1| <re.Match object; span=(0, 69), match='\"Type\": \"Car\",\\n\"brand\": \"Ford\", \\n\"model\": \"Fies> \n",
      "m2_2| None \n",
      "m2_3| <re.Match object; span=(0, 69), match='\"Type\": \"Car\",\\n\"brand\": \"Ford\", \\n\"model\": \"Fies> \n",
      "m2_4| None \n",
      "m2_5| <re.Match object; span=(0, 23), match='\"Type\": \"Car\",\\n\"brand\":'> \n",
      "m2_6| None \n",
      "m2_7| <re.Match object; span=(0, 21), match='\"Type\": \"Car\",\\n\"brand'> \n",
      "m2_8| None \n",
      "m2_9| <re.Match object; span=(0, 21), match='\"Type\": \"Car\",\\n\"brand'>\n"
     ]
    }
   ],
   "source": [
    "print('\\033[1mmatches:\\033[0m \\nm1_1| {0} \\nm1_2| {1} \\nm2_1| {2} \\nm2_2| {3} \\nm2_3| {4} \\nm2_4| {5} '\n",
    "      '\\nm2_5| {6} \\nm2_6| {7} \\nm2_7| {8} \\nm2_8| {9} \\nm2_9| {10}'.format(*match_list))\n",
    " "
   ]
  },
  {
   "cell_type": "code",
   "execution_count": null,
   "id": "eda07d7e-641e-4d9a-9371-17e3833c9d1f",
   "metadata": {},
   "outputs": [],
   "source": []
  },
  {
   "cell_type": "code",
   "execution_count": null,
   "id": "45661837-58eb-4340-a22b-c46e94cfde65",
   "metadata": {},
   "outputs": [],
   "source": []
  }
 ],
 "metadata": {
  "kernelspec": {
   "display_name": "Python 3 (ipykernel)",
   "language": "python",
   "name": "python3"
  },
  "language_info": {
   "codemirror_mode": {
    "name": "ipython",
    "version": 3
   },
   "file_extension": ".py",
   "mimetype": "text/x-python",
   "name": "python",
   "nbconvert_exporter": "python",
   "pygments_lexer": "ipython3",
   "version": "3.8.8"
  }
 },
 "nbformat": 4,
 "nbformat_minor": 5
}
