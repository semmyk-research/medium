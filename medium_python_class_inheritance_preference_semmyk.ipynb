{
 "cells": [
  {
   "cell_type": "markdown",
   "id": "e10754f4-292a-4236-9df4-fd5835997e1e",
   "metadata": {},
   "source": [
    "### Python: Multiple base class inheritance\n",
    "\n",
    "Unlike in (some) other languages like Java, AFAIK, **Python** allows inheriting more than one base class (super class).\n",
    "\n",
    "When multiple classes are called in Python, the preference order is depth-first, followed by a left-right path. That is the inner (is processed) first and the next to the right (is processed) next.\n",
    "Say there is a derived class inheriting classes 1,2, and 3  \n",
    "`InheringClass(Class1, Class2, Class3)`  \n",
    "then the order of preference will be Class1 first , followed by Class2 before Class3.\n",
    "\n",
    "Python handles levels or preference of methods in multiple classes using the <u>method resolution order - MRO</u>.  \n",
    "The [mro][1] has an attribute `__mro__` and a method `mro()`\n",
    "\n",
    "\n",
    "\n",
    "[1]: <https://www.python.org/download/releases/2.3/mro/> 'Python mro linearisation'\n",
    "\n",
    "- *Semmyk '22*"
   ]
  },
  {
   "cell_type": "code",
   "execution_count": 1,
   "id": "6ee8fe6a-92a2-4f8c-9ef1-be89d8cb594f",
   "metadata": {},
   "outputs": [],
   "source": [
    "## define a class\n",
    "class SuperClass1:\n",
    "    name = 'String 1'\n",
    " "
   ]
  },
  {
   "cell_type": "code",
   "execution_count": 2,
   "id": "4a7fdd96-17c3-47e2-95bf-d57bbb0e7e8b",
   "metadata": {},
   "outputs": [],
   "source": [
    "## define a second class\n",
    "class SuperClass2:\n",
    "    name = 'String 2'\n",
    " "
   ]
  },
  {
   "cell_type": "code",
   "execution_count": 3,
   "id": "eb70bf4e-e9c9-4b62-9835-d6865bec1277",
   "metadata": {},
   "outputs": [],
   "source": [
    "## define a second class\n",
    "class SuperClass3:\n",
    "    name = 'String 3'\n",
    " "
   ]
  },
  {
   "cell_type": "code",
   "execution_count": 4,
   "id": "eda07d7e-641e-4d9a-9371-17e3833c9d1f",
   "metadata": {},
   "outputs": [],
   "source": [
    "## inherite multiple class\n",
    "class BaseClass(SuperClass1, SuperClass2, SuperClass3):\n",
    "    pass  ## return nothin\n",
    " "
   ]
  },
  {
   "cell_type": "code",
   "execution_count": 5,
   "id": "32567445-b858-4ad4-a409-4fdb62b8fcf1",
   "metadata": {},
   "outputs": [
    {
     "name": "stdout",
     "output_type": "stream",
     "text": [
      "The output calling BaseClass is: String 1\n"
     ]
    }
   ],
   "source": [
    "## Print out output of calling the name method\n",
    "print(f'The output calling BaseClass is: {BaseClass.name}')"
   ]
  },
  {
   "cell_type": "code",
   "execution_count": null,
   "id": "85ad9217-6626-4adc-bb40-058de12b66b9",
   "metadata": {},
   "outputs": [],
   "source": []
  },
  {
   "cell_type": "code",
   "execution_count": null,
   "id": "45661837-58eb-4340-a22b-c46e94cfde65",
   "metadata": {},
   "outputs": [],
   "source": []
  }
 ],
 "metadata": {
  "kernelspec": {
   "display_name": "Python 3 (ipykernel)",
   "language": "python",
   "name": "python3"
  },
  "language_info": {
   "codemirror_mode": {
    "name": "ipython",
    "version": 3
   },
   "file_extension": ".py",
   "mimetype": "text/x-python",
   "name": "python",
   "nbconvert_exporter": "python",
   "pygments_lexer": "ipython3",
   "version": "3.8.8"
  }
 },
 "nbformat": 4,
 "nbformat_minor": 5
}
